{
  "cells": [
    {
      "cell_type": "markdown",
      "metadata": {
        "id": "view-in-github",
        "colab_type": "text"
      },
      "source": [
        "<a href=\"https://colab.research.google.com/github/Aadiya-Pokhrel/freecodecamp_projects/blob/main/medical_data_visualizer.ipynb\" target=\"_parent\"><img src=\"https://colab.research.google.com/assets/colab-badge.svg\" alt=\"Open In Colab\"/></a>"
      ]
    },
    {
      "cell_type": "code",
      "execution_count": null,
      "id": "8822c6b7",
      "metadata": {
        "id": "8822c6b7"
      },
      "outputs": [],
      "source": [
        "import pandas as pd\n",
        "import seaborn as sns\n",
        "import matplotlib.pyplot as plt\n",
        "import numpy as np"
      ]
    },
    {
      "cell_type": "markdown",
      "id": "c642f5ec",
      "metadata": {
        "id": "c642f5ec"
      },
      "source": [
        "# # Import data"
      ]
    },
    {
      "cell_type": "code",
      "execution_count": null,
      "id": "d286d63c",
      "metadata": {
        "id": "d286d63c"
      },
      "outputs": [],
      "source": [
        "\n",
        "df = pd.read_csv('medical_examination.csv')"
      ]
    },
    {
      "cell_type": "markdown",
      "id": "a54c480e",
      "metadata": {
        "id": "a54c480e"
      },
      "source": [
        "# # Add 'overweight' column"
      ]
    },
    {
      "cell_type": "code",
      "execution_count": null,
      "id": "9f05f18d",
      "metadata": {
        "id": "9f05f18d"
      },
      "outputs": [],
      "source": [
        "df['overweight'] = np.where((df['weight']/(df['height']/100)**2)\n",
        "                       >25 , 1,0 )"
      ]
    },
    {
      "cell_type": "code",
      "execution_count": null,
      "id": "82048f50",
      "metadata": {
        "id": "82048f50",
        "outputId": "035a2b59-26ba-4bed-9c73-a3028900e87f"
      },
      "outputs": [
        {
          "data": {
            "text/html": [
              "<div>\n",
              "<style scoped>\n",
              "    .dataframe tbody tr th:only-of-type {\n",
              "        vertical-align: middle;\n",
              "    }\n",
              "\n",
              "    .dataframe tbody tr th {\n",
              "        vertical-align: top;\n",
              "    }\n",
              "\n",
              "    .dataframe thead th {\n",
              "        text-align: right;\n",
              "    }\n",
              "</style>\n",
              "<table border=\"1\" class=\"dataframe\">\n",
              "  <thead>\n",
              "    <tr style=\"text-align: right;\">\n",
              "      <th></th>\n",
              "      <th>age</th>\n",
              "      <th>sex</th>\n",
              "      <th>height</th>\n",
              "      <th>weight</th>\n",
              "      <th>ap_hi</th>\n",
              "      <th>ap_lo</th>\n",
              "      <th>cholesterol</th>\n",
              "      <th>gluc</th>\n",
              "      <th>smoke</th>\n",
              "      <th>alco</th>\n",
              "      <th>active</th>\n",
              "      <th>cardio</th>\n",
              "      <th>overweight</th>\n",
              "    </tr>\n",
              "    <tr>\n",
              "      <th>id</th>\n",
              "      <th></th>\n",
              "      <th></th>\n",
              "      <th></th>\n",
              "      <th></th>\n",
              "      <th></th>\n",
              "      <th></th>\n",
              "      <th></th>\n",
              "      <th></th>\n",
              "      <th></th>\n",
              "      <th></th>\n",
              "      <th></th>\n",
              "      <th></th>\n",
              "      <th></th>\n",
              "    </tr>\n",
              "  </thead>\n",
              "  <tbody>\n",
              "    <tr>\n",
              "      <th>0</th>\n",
              "      <td>18393</td>\n",
              "      <td>2</td>\n",
              "      <td>168</td>\n",
              "      <td>62.0</td>\n",
              "      <td>110</td>\n",
              "      <td>80</td>\n",
              "      <td>1</td>\n",
              "      <td>1</td>\n",
              "      <td>0</td>\n",
              "      <td>0</td>\n",
              "      <td>1</td>\n",
              "      <td>0</td>\n",
              "      <td>0</td>\n",
              "    </tr>\n",
              "    <tr>\n",
              "      <th>1</th>\n",
              "      <td>20228</td>\n",
              "      <td>1</td>\n",
              "      <td>156</td>\n",
              "      <td>85.0</td>\n",
              "      <td>140</td>\n",
              "      <td>90</td>\n",
              "      <td>3</td>\n",
              "      <td>1</td>\n",
              "      <td>0</td>\n",
              "      <td>0</td>\n",
              "      <td>1</td>\n",
              "      <td>1</td>\n",
              "      <td>1</td>\n",
              "    </tr>\n",
              "    <tr>\n",
              "      <th>2</th>\n",
              "      <td>18857</td>\n",
              "      <td>1</td>\n",
              "      <td>165</td>\n",
              "      <td>64.0</td>\n",
              "      <td>130</td>\n",
              "      <td>70</td>\n",
              "      <td>3</td>\n",
              "      <td>1</td>\n",
              "      <td>0</td>\n",
              "      <td>0</td>\n",
              "      <td>0</td>\n",
              "      <td>1</td>\n",
              "      <td>0</td>\n",
              "    </tr>\n",
              "    <tr>\n",
              "      <th>3</th>\n",
              "      <td>17623</td>\n",
              "      <td>2</td>\n",
              "      <td>169</td>\n",
              "      <td>82.0</td>\n",
              "      <td>150</td>\n",
              "      <td>100</td>\n",
              "      <td>1</td>\n",
              "      <td>1</td>\n",
              "      <td>0</td>\n",
              "      <td>0</td>\n",
              "      <td>1</td>\n",
              "      <td>1</td>\n",
              "      <td>1</td>\n",
              "    </tr>\n",
              "    <tr>\n",
              "      <th>4</th>\n",
              "      <td>17474</td>\n",
              "      <td>1</td>\n",
              "      <td>156</td>\n",
              "      <td>56.0</td>\n",
              "      <td>100</td>\n",
              "      <td>60</td>\n",
              "      <td>1</td>\n",
              "      <td>1</td>\n",
              "      <td>0</td>\n",
              "      <td>0</td>\n",
              "      <td>0</td>\n",
              "      <td>0</td>\n",
              "      <td>0</td>\n",
              "    </tr>\n",
              "  </tbody>\n",
              "</table>\n",
              "</div>"
            ],
            "text/plain": [
              "      age  sex  height  weight  ap_hi  ap_lo  cholesterol  gluc  smoke  alco  \\\n",
              "id                                                                             \n",
              "0   18393    2     168    62.0    110     80            1     1      0     0   \n",
              "1   20228    1     156    85.0    140     90            3     1      0     0   \n",
              "2   18857    1     165    64.0    130     70            3     1      0     0   \n",
              "3   17623    2     169    82.0    150    100            1     1      0     0   \n",
              "4   17474    1     156    56.0    100     60            1     1      0     0   \n",
              "\n",
              "    active  cardio  overweight  \n",
              "id                              \n",
              "0        1       0           0  \n",
              "1        1       1           1  \n",
              "2        0       1           0  \n",
              "3        1       1           1  \n",
              "4        0       0           0  "
            ]
          },
          "execution_count": 4,
          "metadata": {},
          "output_type": "execute_result"
        }
      ],
      "source": [
        "df.head()"
      ]
    },
    {
      "cell_type": "markdown",
      "id": "790e3563",
      "metadata": {
        "id": "790e3563"
      },
      "source": [
        "# # Normalize data by making 0 always good and 1 always bad. If the value of 'cholesterol' or 'gluc' is 1, make the value 0. If the value is more than 1, make the value 1.\n"
      ]
    },
    {
      "cell_type": "code",
      "execution_count": null,
      "id": "80cc3447",
      "metadata": {
        "id": "80cc3447"
      },
      "outputs": [],
      "source": [
        "df['cholesterol']= np.where(df['cholesterol']\n",
        "                               >1, 1,0 )"
      ]
    },
    {
      "cell_type": "code",
      "execution_count": null,
      "id": "e4357146",
      "metadata": {
        "id": "e4357146"
      },
      "outputs": [],
      "source": [
        "df['gluc']= np.where(df['gluc']\n",
        "                      >1, 1,0 )"
      ]
    },
    {
      "cell_type": "code",
      "execution_count": null,
      "id": "9f36e00f",
      "metadata": {
        "id": "9f36e00f",
        "outputId": "96438d08-20cc-4a11-d1ad-4c40a63d1cfe"
      },
      "outputs": [
        {
          "data": {
            "text/html": [
              "<div>\n",
              "<style scoped>\n",
              "    .dataframe tbody tr th:only-of-type {\n",
              "        vertical-align: middle;\n",
              "    }\n",
              "\n",
              "    .dataframe tbody tr th {\n",
              "        vertical-align: top;\n",
              "    }\n",
              "\n",
              "    .dataframe thead th {\n",
              "        text-align: right;\n",
              "    }\n",
              "</style>\n",
              "<table border=\"1\" class=\"dataframe\">\n",
              "  <thead>\n",
              "    <tr style=\"text-align: right;\">\n",
              "      <th></th>\n",
              "      <th>age</th>\n",
              "      <th>sex</th>\n",
              "      <th>height</th>\n",
              "      <th>weight</th>\n",
              "      <th>ap_hi</th>\n",
              "      <th>ap_lo</th>\n",
              "      <th>cholesterol</th>\n",
              "      <th>gluc</th>\n",
              "      <th>smoke</th>\n",
              "      <th>alco</th>\n",
              "      <th>active</th>\n",
              "      <th>cardio</th>\n",
              "      <th>overweight</th>\n",
              "    </tr>\n",
              "    <tr>\n",
              "      <th>id</th>\n",
              "      <th></th>\n",
              "      <th></th>\n",
              "      <th></th>\n",
              "      <th></th>\n",
              "      <th></th>\n",
              "      <th></th>\n",
              "      <th></th>\n",
              "      <th></th>\n",
              "      <th></th>\n",
              "      <th></th>\n",
              "      <th></th>\n",
              "      <th></th>\n",
              "      <th></th>\n",
              "    </tr>\n",
              "  </thead>\n",
              "  <tbody>\n",
              "    <tr>\n",
              "      <th>99993</th>\n",
              "      <td>19240</td>\n",
              "      <td>2</td>\n",
              "      <td>168</td>\n",
              "      <td>76.0</td>\n",
              "      <td>120</td>\n",
              "      <td>80</td>\n",
              "      <td>0</td>\n",
              "      <td>0</td>\n",
              "      <td>1</td>\n",
              "      <td>0</td>\n",
              "      <td>1</td>\n",
              "      <td>0</td>\n",
              "      <td>1</td>\n",
              "    </tr>\n",
              "    <tr>\n",
              "      <th>99995</th>\n",
              "      <td>22601</td>\n",
              "      <td>1</td>\n",
              "      <td>158</td>\n",
              "      <td>126.0</td>\n",
              "      <td>140</td>\n",
              "      <td>90</td>\n",
              "      <td>1</td>\n",
              "      <td>1</td>\n",
              "      <td>0</td>\n",
              "      <td>0</td>\n",
              "      <td>1</td>\n",
              "      <td>1</td>\n",
              "      <td>1</td>\n",
              "    </tr>\n",
              "    <tr>\n",
              "      <th>99996</th>\n",
              "      <td>19066</td>\n",
              "      <td>2</td>\n",
              "      <td>183</td>\n",
              "      <td>105.0</td>\n",
              "      <td>180</td>\n",
              "      <td>90</td>\n",
              "      <td>1</td>\n",
              "      <td>0</td>\n",
              "      <td>0</td>\n",
              "      <td>1</td>\n",
              "      <td>0</td>\n",
              "      <td>1</td>\n",
              "      <td>1</td>\n",
              "    </tr>\n",
              "    <tr>\n",
              "      <th>99998</th>\n",
              "      <td>22431</td>\n",
              "      <td>1</td>\n",
              "      <td>163</td>\n",
              "      <td>72.0</td>\n",
              "      <td>135</td>\n",
              "      <td>80</td>\n",
              "      <td>0</td>\n",
              "      <td>1</td>\n",
              "      <td>0</td>\n",
              "      <td>0</td>\n",
              "      <td>0</td>\n",
              "      <td>1</td>\n",
              "      <td>1</td>\n",
              "    </tr>\n",
              "    <tr>\n",
              "      <th>99999</th>\n",
              "      <td>20540</td>\n",
              "      <td>1</td>\n",
              "      <td>170</td>\n",
              "      <td>72.0</td>\n",
              "      <td>120</td>\n",
              "      <td>80</td>\n",
              "      <td>1</td>\n",
              "      <td>0</td>\n",
              "      <td>0</td>\n",
              "      <td>0</td>\n",
              "      <td>1</td>\n",
              "      <td>0</td>\n",
              "      <td>0</td>\n",
              "    </tr>\n",
              "  </tbody>\n",
              "</table>\n",
              "</div>"
            ],
            "text/plain": [
              "         age  sex  height  weight  ap_hi  ap_lo  cholesterol  gluc  smoke  \\\n",
              "id                                                                          \n",
              "99993  19240    2     168    76.0    120     80            0     0      1   \n",
              "99995  22601    1     158   126.0    140     90            1     1      0   \n",
              "99996  19066    2     183   105.0    180     90            1     0      0   \n",
              "99998  22431    1     163    72.0    135     80            0     1      0   \n",
              "99999  20540    1     170    72.0    120     80            1     0      0   \n",
              "\n",
              "       alco  active  cardio  overweight  \n",
              "id                                       \n",
              "99993     0       1       0           1  \n",
              "99995     0       1       1           1  \n",
              "99996     1       0       1           1  \n",
              "99998     0       0       1           1  \n",
              "99999     0       1       0           0  "
            ]
          },
          "execution_count": 7,
          "metadata": {},
          "output_type": "execute_result"
        }
      ],
      "source": [
        "df.tail()"
      ]
    },
    {
      "cell_type": "markdown",
      "id": "d4d493ca",
      "metadata": {
        "id": "d4d493ca"
      },
      "source": [
        "# # Draw Categorical Plot"
      ]
    },
    {
      "cell_type": "code",
      "execution_count": null,
      "id": "ffc55879",
      "metadata": {
        "id": "ffc55879"
      },
      "outputs": [],
      "source": [
        "def draw_cat_plot():\n",
        "    # Create DataFrame for cat plot using `pd.melt` using just the values from 'cholesterol', 'gluc', 'smoke', 'alco', 'active', and 'overweight'.\n",
        "\n",
        "    df_cat = pd.melt(df,id_vars='cardio', value_vars= ['active','alco','cholesterol','gluc','overweight','smoke'])\n",
        "\n",
        "    # Group and reformat the data to split it by 'cardio'. Show the counts of each feature. You will have to rename one of the collumns for the catplot to work correctly.\n",
        "    #df_cat = None\n",
        "\n",
        "    # Draw the catplot with 'sns.catplot()'\n",
        "    fig = sns.catplot(data = df_cat, kind='count',  x='variable', hue='value', col='cardio').set(ylabel = 'total').fig\n",
        "\n",
        "\n",
        "    # Do not modify the next two lines\n",
        "    fig.savefig('catplot.png')\n",
        "    return fig"
      ]
    },
    {
      "cell_type": "markdown",
      "id": "75f04f67",
      "metadata": {
        "id": "75f04f67"
      },
      "source": [
        "# # Draw Heat Map"
      ]
    },
    {
      "cell_type": "code",
      "execution_count": null,
      "id": "895d509f",
      "metadata": {
        "id": "895d509f"
      },
      "outputs": [],
      "source": [
        "def draw_heat_map():\n",
        "    # 11\n",
        "    df_heat = df[((df['height'] >= df['height'].quantile(0.025)) &\n",
        "                  (df['height'] <= df['height'].quantile(0.975)) &\n",
        "                  (df['weight'] >= df['weight'].quantile(0.025)) &\n",
        "                  (df['weight'] <= df['weight'].quantile(0.975)))]\n",
        "\n",
        "    # 12\n",
        "    corr = df_heat.corr()\n",
        "\n",
        "    # 13\n",
        "    mask = np.triu((corr))\n",
        "\n",
        "\n",
        "\n",
        "    # 14\n",
        "    fig, ax = plt.subplots(figsize=(20, 15))\n",
        "\n",
        "    # 15\n",
        "\n",
        "    ax = sns.heatmap(data = corr, vmin = -0.5, vmax = 1, cmap ='inferno', annot= True, annot_kws= {'fontsize': '12', 'fontweight':'bold'}, square = True, linewidths = 0.8, linecolor = 'white', cbar = True, mask = mask)\n",
        "\n",
        "    # 16\n",
        "    fig.savefig('heatmap.png')\n",
        "    return fig\n"
      ]
    }
  ],
  "metadata": {
    "kernelspec": {
      "display_name": "Python 3 (ipykernel)",
      "language": "python",
      "name": "python3"
    },
    "language_info": {
      "codemirror_mode": {
        "name": "ipython",
        "version": 3
      },
      "file_extension": ".py",
      "mimetype": "text/x-python",
      "name": "python",
      "nbconvert_exporter": "python",
      "pygments_lexer": "ipython3",
      "version": "3.11.7"
    },
    "colab": {
      "provenance": [],
      "include_colab_link": true
    }
  },
  "nbformat": 4,
  "nbformat_minor": 5
}