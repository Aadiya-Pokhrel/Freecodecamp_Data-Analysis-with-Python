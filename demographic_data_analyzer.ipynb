{
 "cells": [
  {
   "cell_type": "code",
   "execution_count": 2,
   "id": "29bdae7f",
   "metadata": {},
   "outputs": [],
   "source": [
    "import pandas as pd"
   ]
  },
  {
   "cell_type": "code",
   "execution_count": 14,
   "id": "160955c6",
   "metadata": {},
   "outputs": [],
   "source": [
    "def calculate_demographic_data(print_data=True):\n",
    "    # Read data from file\n",
    "    df = pd.read_csv('adult.data.csv') \n",
    "\n",
    "    # How many of each race are represented in this dataset? This should be a Pandas series with race names as the index labels.\n",
    "    \n",
    "    race_count = race_count=(df['race']).value_counts()\n",
    "\n",
    "    # What is the average age of men?\n",
    "    average_age_men = round((((df.loc[df['sex']=='Male',['age']]).mean())['age']),1)\n",
    "\n",
    "    # What is the percentage of people who have a Bachelor's degree?\n",
    "    \n",
    "    percentage_bachelors = round((((((df[['education','fnlwgt']]).groupby('education')['fnlwgt'].sum().reset_index()).set_index('education'))['fnlwgt'])['Bachelors']*100)/df['fnlwgt'].sum(), 1)\n",
    "                                 \n",
    "    # What percentage of people with advanced education (`Bachelors`, `Masters`, or `Doctorate`) make more than 50K?\n",
    "    # What percentage of people without advanced education make more than 50K?\n",
    "\n",
    "    # with and without `Bachelors`, `Masters`, or `Doctorate`\n",
    "    \n",
    "    higher_education = (df[((df['education']=='Bachelors') | (df['education']=='Masters') | (df['education']=='Doctorate'))])[['education','fnlwgt','salary']]\n",
    "    lower_education = (df[~((df['education']=='Bachelors') | (df['education']=='Masters') | (df['education']=='Doctorate'))])[['education','fnlwgt','salary']]\n",
    "    \n",
    "    # percentage with salary >50K\n",
    "    \n",
    "    higher_education_rich = round(((higher_education[(higher_education['salary']=='>50K')]['fnlwgt']).sum()*100)/higher_education['fnlwgt'].sum(), 1)\n",
    "    lower_education_rich = round(((lower_education[(lower_education['salary']=='>50K')]['fnlwgt']).sum()*100)/lower_education['fnlwgt'].sum(), 1)\n",
    "\n",
    "\n",
    "    # What is the minimum number of hours a person works per week (hours-per-week feature)?\n",
    "    min_work_hours = df['hours-per-week'].min()\n",
    "    \n",
    "    # What percentage of the people who work the minimum number of hours per week have a salary of >50K?\n",
    "    num_min_workers = (df[((df['hours-per-week']==1) & (df['salary']=='>50K'))])['fnlwgt'].sum()\n",
    "    \n",
    "    rich_percentage = (num_min_workers*100)/(df[df['hours-per-week']==1])['fnlwgt'].sum()\n",
    "\n",
    "    # What country has the highest percentage of people that earn >50K?\n",
    "    country_list=(((df[(df['salary']=='>50K')])[['native-country','fnlwgt']]).groupby('native-country')['fnlwgt'].sum().reset_index()).set_index('native-country')\n",
    "    country_list1=((df[['native-country','fnlwgt']]).groupby('native-country')['fnlwgt'].sum().reset_index()).set_index('native-country')\n",
    "    country_list1.columns = ['fnlwgt_total']\n",
    "    country_list['fnlwgt_total']=(country_list1)\n",
    "    country_list['percentage_>50k']=(country_list['fnlwgt']*100)/country_list['fnlwgt_total']\n",
    "    country_list=country_list.reset_index()\n",
    "    \n",
    "    highest_earning_country = country_list[country_list['percentage_>50k']==(country_list['percentage_>50k'].max())]['native-country'].reset_index()['native-country'][0]\n",
    "    \n",
    "    highest_earning_country_percentage = round(country_list[country_list['percentage_>50k']==(country_list['percentage_>50k'].max())]['percentage_>50k'].reset_index()['percentage_>50k'][0], 1)\n",
    "    \n",
    "    # Identify the most popular occupation for those who earn >50K in India.\n",
    "    occupation_list =((df[((df['native-country']=='India') & (df['salary']=='>50K'))])[['occupation','fnlwgt']]).groupby('occupation')['fnlwgt'].sum().reset_index()\n",
    "    top_IN_occupation = ((((occupation_list[(occupation_list['fnlwgt']==occupation_list['fnlwgt'].max())])['occupation']).reset_index())['occupation'])[0]\n",
    "    \n",
    "    # DO NOT MODIFY BELOW THIS LINE\n",
    "\n",
    "    if print_data:\n",
    "        print(\"Number of each race:\\n\", race_count) \n",
    "        print(\"Average age of men:\", average_age_men)\n",
    "        print(f\"Percentage with Bachelors degrees: {percentage_bachelors}%\")\n",
    "        print(f\"Percentage with higher education that earn >50K: {higher_education_rich}%\")\n",
    "        print(f\"Percentage without higher education that earn >50K: {lower_education_rich}%\")\n",
    "        print(f\"Min work time: {min_work_hours} hours/week\")\n",
    "        print(f\"Percentage of rich among those who work fewest hours: {rich_percentage}%\")\n",
    "        print(\"Country with highest percentage of rich:\", highest_earning_country)\n",
    "        print(f\"Highest percentage of rich people in country: {highest_earning_country_percentage}%\")\n",
    "        print(\"Top occupations in India:\", top_IN_occupation)\n",
    "\n",
    "    return {\n",
    "        'race_count': race_count,\n",
    "        'average_age_men': average_age_men,\n",
    "        'percentage_bachelors': percentage_bachelors,\n",
    "        'higher_education_rich': higher_education_rich,\n",
    "        'lower_education_rich': lower_education_rich,\n",
    "        'min_work_hours': min_work_hours,\n",
    "        'rich_percentage': rich_percentage,\n",
    "        'highest_earning_country': highest_earning_country,\n",
    "        'highest_earning_country_percentage':\n",
    "        highest_earning_country_percentage,\n",
    "        'top_IN_occupation': top_IN_occupation\n",
    "    }\n"
   ]
  },
  {
   "cell_type": "code",
   "execution_count": 15,
   "id": "94c6602e",
   "metadata": {},
   "outputs": [
    {
     "name": "stdout",
     "output_type": "stream",
     "text": [
      "Number of each race:\n",
      " race\n",
      "White                 27816\n",
      "Black                  3124\n",
      "Asian-Pac-Islander     1039\n",
      "Amer-Indian-Eskimo      311\n",
      "Other                   271\n",
      "Name: count, dtype: int64\n",
      "Average age of men: 39.4\n",
      "Percentage with Bachelors degrees: 16.3%\n",
      "Percentage with higher education that earn >50K: 46.9%\n",
      "Percentage without higher education that earn >50K: 17.1%\n",
      "Min work time: 1 hours/week\n",
      "Percentage of rich among those who work fewest hours: 5.578524319372546%\n",
      "Country with highest percentage of rich: Cambodia\n",
      "Highest percentage of rich people in country: 45.4%\n",
      "Top occupations in India: Prof-specialty\n"
     ]
    },
    {
     "data": {
      "text/plain": [
       "{'race_count': race\n",
       " White                 27816\n",
       " Black                  3124\n",
       " Asian-Pac-Islander     1039\n",
       " Amer-Indian-Eskimo      311\n",
       " Other                   271\n",
       " Name: count, dtype: int64,\n",
       " 'average_age_men': 39.4,\n",
       " 'percentage_bachelors': 16.3,\n",
       " 'higher_education_rich': 46.9,\n",
       " 'lower_education_rich': 17.1,\n",
       " 'min_work_hours': 1,\n",
       " 'rich_percentage': 5.578524319372546,\n",
       " 'highest_earning_country': 'Cambodia',\n",
       " 'highest_earning_country_percentage': 45.4,\n",
       " 'top_IN_occupation': 'Prof-specialty'}"
      ]
     },
     "execution_count": 15,
     "metadata": {},
     "output_type": "execute_result"
    }
   ],
   "source": [
    "calculate_demographic_data()"
   ]
  },
  {
   "cell_type": "code",
   "execution_count": null,
   "id": "3a42f867",
   "metadata": {},
   "outputs": [],
   "source": []
  }
 ],
 "metadata": {
  "kernelspec": {
   "display_name": "Python 3 (ipykernel)",
   "language": "python",
   "name": "python3"
  },
  "language_info": {
   "codemirror_mode": {
    "name": "ipython",
    "version": 3
   },
   "file_extension": ".py",
   "mimetype": "text/x-python",
   "name": "python",
   "nbconvert_exporter": "python",
   "pygments_lexer": "ipython3",
   "version": "3.11.7"
  }
 },
 "nbformat": 4,
 "nbformat_minor": 5
}
