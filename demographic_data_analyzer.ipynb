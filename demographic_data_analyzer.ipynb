{
  "cells": [
    {
      "cell_type": "markdown",
      "metadata": {
        "id": "view-in-github",
        "colab_type": "text"
      },
      "source": [
        "<a href=\"https://colab.research.google.com/github/Aadiya-Pokhrel/freecodecamp_projects/blob/main/demographic_data_analyzer.ipynb\" target=\"_parent\"><img src=\"https://colab.research.google.com/assets/colab-badge.svg\" alt=\"Open In Colab\"/></a>"
      ]
    },
    {
      "cell_type": "code",
      "execution_count": 2,
      "id": "29bdae7f",
      "metadata": {
        "id": "29bdae7f"
      },
      "outputs": [],
      "source": [
        "import pandas as pd"
      ]
    },
    {
      "cell_type": "code",
      "execution_count": 3,
      "id": "160955c6",
      "metadata": {
        "id": "160955c6"
      },
      "outputs": [],
      "source": [
        "def calculate_demographic_data(print_data=True):\n",
        "    # Read data from file\n",
        "    df = pd.read_csv('adult.data.csv')\n",
        "\n",
        "    # How many of each race are represented in this dataset? This should be a Pandas series with race names as the index labels.\n",
        "\n",
        "    race_count=(df['race']).value_counts()\n",
        "\n",
        "    # What is the average age of men?\n",
        "    average_age_men = round((((df.loc[df['sex']=='Male',['age']]).mean())['age']),1)\n",
        "\n",
        "    # What is the percentage of people who have a Bachelor's degree?\n",
        "\n",
        "    percentage_bachelors = round(((df['education']=='Bachelors').sum()*100)/len(df['education']), 1)\n",
        "\n",
        "    # What percentage of people with advanced education (`Bachelors`, `Masters`, or `Doctorate`) make more than 50K?\n",
        "    # What percentage of people without advanced education make more than 50K?\n",
        "\n",
        "    # with and without `Bachelors`, `Masters`, or `Doctorate`\n",
        "\n",
        "    higher_education = (df[((df['education']=='Bachelors') | (df['education']=='Masters') | (df['education']=='Doctorate'))])\n",
        "    lower_education = (df[~((df['education']=='Bachelors') | (df['education']=='Masters') | (df['education']=='Doctorate'))])\n",
        "\n",
        "    # percentage with salary >50K\n",
        "\n",
        "    higher_education_rich = round((higher_education['salary']=='>50K').sum()*100/len(higher_education['salary']), 1)\n",
        "    lower_education_rich = round((lower_education['salary']=='>50K').sum()*100/len(lower_education['salary']), 1)\n",
        "\n",
        "\n",
        "    # What is the minimum number of hours a person works per week (hours-per-week feature)?\n",
        "    min_work_hours = df['hours-per-week'].min()\n",
        "\n",
        "    # What percentage of the people who work the minimum number of hours per week have a salary of >50K?\n",
        "    num_min_workers = (((df['hours-per-week']==1) & (df['salary']=='>50K'))).sum()\n",
        "\n",
        "    rich_percentage = (num_min_workers*100)/(df['hours-per-week']==1).sum()\n",
        "\n",
        "    # What country has the highest percentage of people that earn >50K?\n",
        "    country_list=((df[(df['salary']=='>50K')].groupby('native-country')['salary'].count().reset_index()).set_index('native-country')/(df.groupby('native-country')['salary'].count().reset_index()).set_index('native-country')).reset_index()\n",
        "\n",
        "    highest_earning_country = country_list[country_list['salary']==(country_list['salary'].max())]['native-country'].reset_index()['native-country'][0]\n",
        "\n",
        "    highest_earning_country_percentage = round(country_list.reset_index()['salary'].max()*100, 1)\n",
        "\n",
        "    # Identify the most popular occupation for those who earn >50K in India.\n",
        "\n",
        "    top_IN_occupation = (df[(df['native-country']=='India') & (df['salary']=='>50K')])['occupation'].value_counts().keys()[0]\n",
        "\n",
        "    # DO NOT MODIFY BELOW THIS LINE\n",
        "\n",
        "    if print_data:\n",
        "        print(\"Number of each race:\\n\", race_count)\n",
        "        print(\"Average age of men:\", average_age_men)\n",
        "        print(f\"Percentage with Bachelors degrees: {percentage_bachelors}%\")\n",
        "        print(f\"Percentage with higher education that earn >50K: {higher_education_rich}%\")\n",
        "        print(f\"Percentage without higher education that earn >50K: {lower_education_rich}%\")\n",
        "        print(f\"Min work time: {min_work_hours} hours/week\")\n",
        "        print(f\"Percentage of rich among those who work fewest hours: {rich_percentage}%\")\n",
        "        print(\"Country with highest percentage of rich:\", highest_earning_country)\n",
        "        print(f\"Highest percentage of rich people in country: {highest_earning_country_percentage}%\")\n",
        "        print(\"Top occupations in India:\", top_IN_occupation)\n",
        "\n",
        "    return {\n",
        "        'race_count': race_count,\n",
        "        'average_age_men': average_age_men,\n",
        "        'percentage_bachelors': percentage_bachelors,\n",
        "        'higher_education_rich': higher_education_rich,\n",
        "        'lower_education_rich': lower_education_rich,\n",
        "        'min_work_hours': min_work_hours,\n",
        "        'rich_percentage': rich_percentage,\n",
        "        'highest_earning_country': highest_earning_country,\n",
        "        'highest_earning_country_percentage':\n",
        "        highest_earning_country_percentage,\n",
        "        'top_IN_occupation': top_IN_occupation\n",
        "    }\n"
      ]
    },
    {
      "cell_type": "code",
      "execution_count": null,
      "id": "b8318676",
      "metadata": {
        "id": "b8318676"
      },
      "outputs": [],
      "source": []
    }
  ],
  "metadata": {
    "kernelspec": {
      "display_name": "Python 3 (ipykernel)",
      "language": "python",
      "name": "python3"
    },
    "language_info": {
      "codemirror_mode": {
        "name": "ipython",
        "version": 3
      },
      "file_extension": ".py",
      "mimetype": "text/x-python",
      "name": "python",
      "nbconvert_exporter": "python",
      "pygments_lexer": "ipython3",
      "version": "3.11.7"
    },
    "colab": {
      "provenance": [],
      "include_colab_link": true
    }
  },
  "nbformat": 4,
  "nbformat_minor": 5
}