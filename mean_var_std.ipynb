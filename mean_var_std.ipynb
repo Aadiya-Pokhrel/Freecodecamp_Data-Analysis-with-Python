{
 "cells": [
  {
   "cell_type": "code",
   "execution_count": 2,
   "id": "c81793dd-ac11-451d-a5a3-5f3dca91e92b",
   "metadata": {},
   "outputs": [],
   "source": [
    "import numpy as np\n",
    "import pandas as pd"
   ]
  },
  {
   "cell_type": "code",
   "execution_count": 28,
   "id": "ce79af35",
   "metadata": {},
   "outputs": [],
   "source": [
    "def calculate(list):\n",
    "    if len(list)==9:\n",
    "        l=np.array(list)\n",
    "        l2=l.reshape((3,3))\n",
    "        calculations={\n",
    "            'mean': [l2.mean(axis=0), l2.mean(axis=1), l.mean()],\n",
    "            'variance': [l2.var(axis=0), l2.var(axis=1), l.var()],\n",
    "            'standard deviation': [l2.std(axis=0), l2.std(axis=1), l.std()],\n",
    "            'max': [l2.max(axis=0), l2.max(axis=1), l.max()],\n",
    "            'min': [l2.min(axis=0), l2.min(axis=1), l.min()],\n",
    "            'sum': [l2.sum(axis=0), l2.sum(axis=1), l.sum()]\n",
    "        }\n",
    "       \n",
    "    \n",
    "    else:\n",
    "        calculations= ValueError, \"List must contain nine numbers.\"\n",
    "        \n",
    "    return calculations\n",
    "        "
   ]
  }
 ],
 "metadata": {
  "kernelspec": {
   "display_name": "Python 3 (ipykernel)",
   "language": "python",
   "name": "python3"
  },
  "language_info": {
   "codemirror_mode": {
    "name": "ipython",
    "version": 3
   },
   "file_extension": ".py",
   "mimetype": "text/x-python",
   "name": "python",
   "nbconvert_exporter": "python",
   "pygments_lexer": "ipython3",
   "version": "3.11.7"
  }
 },
 "nbformat": 4,
 "nbformat_minor": 5
}
