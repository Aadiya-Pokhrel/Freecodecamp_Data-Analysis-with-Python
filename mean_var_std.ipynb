{
  "cells": [
    {
      "cell_type": "markdown",
      "metadata": {
        "id": "view-in-github",
        "colab_type": "text"
      },
      "source": [
        "<a href=\"https://colab.research.google.com/github/Aadiya-Pokhrel/freecodecamp_projects/blob/main/mean_var_std.ipynb\" target=\"_parent\"><img src=\"https://colab.research.google.com/assets/colab-badge.svg\" alt=\"Open In Colab\"/></a>"
      ]
    },
    {
      "cell_type": "code",
      "execution_count": 1,
      "id": "c81793dd-ac11-451d-a5a3-5f3dca91e92b",
      "metadata": {
        "id": "c81793dd-ac11-451d-a5a3-5f3dca91e92b"
      },
      "outputs": [],
      "source": [
        "import numpy as np"
      ]
    },
    {
      "cell_type": "code",
      "execution_count": 2,
      "id": "ce79af35",
      "metadata": {
        "id": "ce79af35"
      },
      "outputs": [],
      "source": [
        "def calculate(list):\n",
        "    if len(list)!=9:\n",
        "      raise ValueError(\"List must contain nine numbers.\")\n",
        "    l2=np.reshape(np.array(list),(3,3))\n",
        "    calculations={\n",
        "        'mean': [l2.mean(axis=0), l2.mean(axis=1), l.mean()],\n",
        "        'variance': [l2.var(axis=0), l2.var(axis=1), l.var()],\n",
        "        'standard deviation': [l2.std(axis=0), l2.std(axis=1), l.std()],\n",
        "        'max': [l2.max(axis=0), l2.max(axis=1), l.max()],\n",
        "        'min': [l2.min(axis=0), l2.min(axis=1), l.min()],\n",
        "        'sum': [l2.sum(axis=0), l2.sum(axis=1), l.sum()]\n",
        "    }\n",
        "    return calculations\n",
        ""
      ]
    },
    {
      "cell_type": "code",
      "source": [],
      "metadata": {
        "id": "Pf6U2YGchSh0"
      },
      "id": "Pf6U2YGchSh0",
      "execution_count": null,
      "outputs": []
    }
  ],
  "metadata": {
    "kernelspec": {
      "display_name": "Python 3 (ipykernel)",
      "language": "python",
      "name": "python3"
    },
    "language_info": {
      "codemirror_mode": {
        "name": "ipython",
        "version": 3
      },
      "file_extension": ".py",
      "mimetype": "text/x-python",
      "name": "python",
      "nbconvert_exporter": "python",
      "pygments_lexer": "ipython3",
      "version": "3.11.7"
    },
    "colab": {
      "provenance": [],
      "include_colab_link": true
    }
  },
  "nbformat": 4,
  "nbformat_minor": 5
}